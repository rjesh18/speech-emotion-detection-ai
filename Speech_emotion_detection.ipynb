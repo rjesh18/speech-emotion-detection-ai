{
 "cells": [
  {
   "cell_type": "markdown",
   "id": "be7e098e",
   "metadata": {},
   "source": [
    "## Import libraries"
   ]
  },
  {
   "cell_type": "code",
   "execution_count": 1,
   "id": "6a55a964",
   "metadata": {},
   "outputs": [
    {
     "name": "stderr",
     "output_type": "stream",
     "text": [
      "C:\\kandikits\\speech-emotion-detection\\speech-emotion-detection-env\\lib\\site-packages\\whisper\\timing.py:58: NumbaDeprecationWarning: \u001b[1mThe 'nopython' keyword argument was not supplied to the 'numba.jit' decorator. The implicit default value for this argument is currently False, but it will be changed to True in Numba 0.59.0. See https://numba.readthedocs.io/en/stable/reference/deprecation.html#deprecation-of-object-mode-fall-back-behaviour-when-using-jit for details.\u001b[0m\n",
      "  def backtrace(trace: np.ndarray):\n"
     ]
    }
   ],
   "source": [
    "import gradio as gr\n",
    "import torch\n",
    "import whisper\n",
    "import warnings\n",
    "warnings.filterwarnings('ignore')\n",
    "from transformers import pipeline\n",
    "import os"
   ]
  },
  {
   "cell_type": "markdown",
   "id": "23812cb7",
   "metadata": {},
   "source": [
    "## Import and load models"
   ]
  },
  {
   "cell_type": "code",
   "execution_count": null,
   "id": "9386e4d9",
   "metadata": {},
   "outputs": [
    {
     "data": {
      "application/vnd.jupyter.widget-view+json": {
       "model_id": "506518c3662c45e2ae6e64523882e158",
       "version_major": 2,
       "version_minor": 0
      },
      "text/plain": [
       "Downloading pytorch_model.bin:   0%|          | 0.00/967M [00:00<?, ?B/s]"
      ]
     },
     "metadata": {},
     "output_type": "display_data"
    }
   ],
   "source": [
    "MODEL_NAME = \"openai/whisper-small\"\n",
    "BATCH_SIZE = 8\n",
    "\n",
    "device = 0 if torch.cuda.is_available() else \"cpu\"\n",
    "\n",
    "pipe = pipeline(\n",
    "    task=\"automatic-speech-recognition\",\n",
    "    model=MODEL_NAME,\n",
    "    chunk_length_s=30,\n",
    "    device=device)\n"
   ]
  },
  {
   "cell_type": "code",
   "execution_count": null,
   "id": "323b2d0e",
   "metadata": {},
   "outputs": [],
   "source": [
    "emotion_classifier = pipeline(\"text-classification\",model='MilaNLProc/xlm-emo-t', return_all_scores=True)"
   ]
  },
  {
   "cell_type": "markdown",
   "id": "d6c14b75",
   "metadata": {},
   "source": [
    "## Audio transcription"
   ]
  },
  {
   "cell_type": "code",
   "execution_count": null,
   "id": "b9d039f4",
   "metadata": {},
   "outputs": [],
   "source": [
    "def transcribe(microphone, file_upload, task):\n",
    "    output = \"\"\n",
    "    if (microphone is not None) and (file_upload is not None):\n",
    "        warn_output = (\n",
    "            \"WARNING: You've uploaded an audio file and used the microphone. \"\n",
    "            \"The recorded file from the microphone will be used and the uploaded audio will be discarded.\\n\"\n",
    "        )\n",
    "\n",
    "    elif (microphone is None) and (file_upload is None):\n",
    "        raise gr.Error(\"You have to either use the microphone or upload an audio file\")\n",
    "\n",
    "    file = microphone if microphone is not None else file_upload\n",
    "\n",
    "    text = pipe(file, batch_size=BATCH_SIZE, generate_kwargs={\"task\": task})[\"text\"]\n",
    "\n",
    "    return output + text"
   ]
  },
  {
   "cell_type": "markdown",
   "id": "a57c5990",
   "metadata": {},
   "source": [
    "## Emotion detection"
   ]
  },
  {
   "cell_type": "code",
   "execution_count": null,
   "id": "3997db87",
   "metadata": {},
   "outputs": [],
   "source": [
    "def translate_and_classify(audio):\n",
    "    text_result = transcribe(audio, None, \"transcribe\")    \n",
    "    emotion = emotion_classifier(text_result)\n",
    "    detected_emotion = {}\n",
    "    for emotion in emotion[0]:\n",
    "        detected_emotion[emotion[\"label\"]] = emotion[\"score\"]\n",
    "    return text_result, detected_emotion"
   ]
  },
  {
   "cell_type": "markdown",
   "id": "ec2fc70d",
   "metadata": {},
   "source": [
    "## App Interface"
   ]
  },
  {
   "cell_type": "code",
   "execution_count": null,
   "id": "5c67ea35",
   "metadata": {},
   "outputs": [],
   "source": [
    "with gr.Blocks() as demo:\n",
    "\n",
    "    gr.Markdown(\n",
    "    \"\"\"    # Emotion Detection from Speech\n",
    "    \n",
    "            ##### Detection of anger, sadness, joy, fear in speech using OpenAI Whisper and XLM-RoBERTa \n",
    "            \n",
    "            \"\"\")\n",
    "    \n",
    "    with gr.Column():\n",
    "        with gr.Tab(\"Record Audio\"):\n",
    "            audio_input_r = gr.Audio(label = 'Record Audio Input',source=\"microphone\",type=\"filepath\")\n",
    "            transcribe_audio_r = gr.Button('Transcribe')\n",
    "        \n",
    "        with gr.Tab(\"Upload Audio as File\"):\n",
    "            audio_input_u = gr.Audio(label = 'Upload Audio',source=\"upload\",type=\"filepath\")\n",
    "            transcribe_audio_u = gr.Button('Transcribe')\n",
    "\n",
    "        with gr.Row():\n",
    "            transcript_output = gr.Textbox(label=\"Transcription in the language of speech/audio\", lines = 3)\n",
    "            emotion_output = gr.Label(label = \"Detected Emotion\")\n",
    "    \n",
    "    transcribe_audio_r.click(translate_and_classify, inputs = audio_input_r, outputs = [transcript_output,emotion_output])\n",
    "    transcribe_audio_u.click(translate_and_classify, inputs = audio_input_u, outputs = [transcript_output,emotion_output])       \n",
    "    \n",
    "demo.launch(inbrowser=True)"
   ]
  }
 ],
 "metadata": {
  "kernelspec": {
   "display_name": "Python 3 (ipykernel)",
   "language": "python",
   "name": "python3"
  },
  "language_info": {
   "codemirror_mode": {
    "name": "ipython",
    "version": 3
   },
   "file_extension": ".py",
   "mimetype": "text/x-python",
   "name": "python",
   "nbconvert_exporter": "python",
   "pygments_lexer": "ipython3",
   "version": "3.9.8"
  }
 },
 "nbformat": 4,
 "nbformat_minor": 5
}
